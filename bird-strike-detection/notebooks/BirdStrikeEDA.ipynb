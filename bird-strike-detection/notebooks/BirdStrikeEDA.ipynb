{
 "cells": [
  {
   "cell_type": "markdown",
   "metadata": {},
   "source": [
    "<!-- Basic Statistics – Mean, median, standard deviation, etc.\n",
    "\n",
    "Value Counts – Frequency of important categories (like bird species).\n",
    "\n",
    "Data Distribution – Histograms and KDE plots.\n",
    "\n",
    "Correlation – Find relationships between numeric features.\n",
    "\n",
    "Trend Analysis – Bird strikes over time. -->"
   ]
  },
  {
   "cell_type": "code",
   "execution_count": 1,
   "metadata": {},
   "outputs": [],
   "source": [
    "# eda.py\n",
    "import pandas as pd\n",
    "import matplotlib.pyplot as plt\n",
    "import seaborn as sns\n",
    "\n",
    "class BirdStrikeEDA:\n",
    "    def __init__(self, data):\n",
    "        self.data = data\n",
    "\n",
    "    def show_basic_stats(self):\n",
    "        \"\"\"Show basic statistics of the dataset.\"\"\"\n",
    "        print(\"\\n--- Basic Statistics ---\")\n",
    "        print(self.data.describe(include='all'))\n",
    "\n",
    "    def plot_all(self, date_column, target_column, top_n=10):\n",
    "        \"\"\"Plot all key EDA graphs in one frame.\"\"\"\n",
    "        fig, axes = plt.subplots(2, 2, figsize=(16, 12))\n",
    "        fig.suptitle('Bird Strike Data Analysis', fontsize=18)\n",
    "\n",
    "        # 1. Top Value Counts\n",
    "        if target_column in self.data.columns:\n",
    "            sns.countplot(\n",
    "                y=self.data[target_column],\n",
    "                order=self.data[target_column].value_counts().index[:top_n],\n",
    "                palette='viridis',\n",
    "                ax=axes[0, 0]\n",
    "            )\n",
    "            axes[0, 0].set_title(f'Top {top_n} {target_column} Counts')\n",
    "\n",
    "        # 2. Distribution of Altitude\n",
    "        if 'Altitude' in self.data.columns:\n",
    "            sns.histplot(self.data['Altitude'], kde=True, color='skyblue', ax=axes[0, 1])\n",
    "            axes[0, 1].set_title('Altitude Distribution')\n",
    "\n",
    "        # 3. Correlation Heatmap\n",
    "        numeric_data = self.data.select_dtypes(include=['float64', 'int64'])\n",
    "        sns.heatmap(\n",
    "            \n",
    "            numeric_data.corr(), annot=True, cmap='coolwarm', fmt='.2f',\n",
    "            linewidths=0.5, ax=axes[1, 0]\n",
    "        )\n",
    "        axes[1, 0].set_title('Correlation Heatmap')\n",
    "\n",
    "        # 4. Trend Over Time\n",
    "        if date_column in self.data.columns and target_column in self.data.columns:\n",
    "            trend_data = self.data.groupby(self.data[date_column].dt.year)[target_column].count()\n",
    "            sns.lineplot(x=trend_data.index, y=trend_data.values, marker='o', color='blue', ax=axes[1, 1])\n",
    "            axes[1, 1].set_title(f'{target_column} Over Time')\n",
    "\n",
    "        plt.tight_layout(rect=[0, 0, 1, 0.96])\n",
    "        plt.show()\n"
   ]
  }
 ],
 "metadata": {
  "kernelspec": {
   "display_name": "venv",
   "language": "python",
   "name": "python3"
  },
  "language_info": {
   "codemirror_mode": {
    "name": "ipython",
    "version": 3
   },
   "file_extension": ".py",
   "mimetype": "text/x-python",
   "name": "python",
   "nbconvert_exporter": "python",
   "pygments_lexer": "ipython3",
   "version": "3.12.0"
  }
 },
 "nbformat": 4,
 "nbformat_minor": 2
}
