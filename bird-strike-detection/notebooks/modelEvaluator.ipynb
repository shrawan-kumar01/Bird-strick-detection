{
 "cells": [
  {
   "cell_type": "code",
   "execution_count": 2,
   "metadata": {},
   "outputs": [],
   "source": [
    "#  this clas will evaluate the model by crosschecking the Accuracy\n",
    "\n",
    "# Confusion Matrix\n",
    "\n",
    "# Classification Report\n",
    "\n",
    "# ROC Curve & AUC"
   ]
  },
  {
   "cell_type": "code",
   "execution_count": null,
   "metadata": {},
   "outputs": [],
   "source": [
    "import numpy as np\n",
    "import matplotlib.pyplot as plt\n",
    "from sklearn.metrics import accuracy_score, confusion_matrix, classification_report, roc_curve, auc\n",
    "import seaborn as sns\n",
    "\n",
    "class BirdStrikeModelEvaluator:\n",
    "    def __init__(self, model, X_test, y_test):\n",
    "        self.model = model\n",
    "        self.X_test = X_test\n",
    "        self.y_test = y_test\n",
    "        self.y_pred = None\n",
    "        self.y_prob = None\n",
    "    \n",
    "    def evaluate(self):\n",
    "        # Generate predictions\n",
    "        self.y_pred = self.model.predict(self.X_test)\n",
    "        if hasattr(self.model, \"predict_proba\"):\n",
    "            self.y_prob = self.model.predict_proba(self.X_test)[:, 1]\n",
    "        \n",
    "        # 1. Accuracy\n",
    "        accuracy = accuracy_score(self.y_test, self.y_pred)\n",
    "        print(f\"✅ Accuracy: {accuracy * 100:.2f}%\\n\")\n",
    "        \n",
    "        # 2. Confusion Matrix\n",
    "        self.plot_confusion_matrix()\n",
    "        \n",
    "        # 3. Classification Report\n",
    "        self.display_classification_report()\n",
    "        \n",
    "        # 4. ROC Curve and AUC\n",
    "        if self.y_prob is not None:\n",
    "            self.plot_roc_curve()\n",
    "\n",
    "    def plot_confusion_matrix(self):\n",
    "        cm = confusion_matrix(self.y_test, self.y_pred)\n",
    "        plt.figure(figsize=(6, 4))\n",
    "        sns.heatmap(cm, annot=True, fmt='d', cmap='Blues', xticklabels=[0, 1], yticklabels=[0, 1])\n",
    "        plt.title('Confusion Matrix')\n",
    "        plt.xlabel('Predicted')\n",
    "        plt.ylabel('Actual')\n",
    "        plt.show()\n",
    "\n",
    "    def display_classification_report(self):\n",
    "        report = classification_report(self.y_test, self.y_pred)\n",
    "        print(\"✅ Classification Report:\\n\")\n",
    "        print(report)\n",
    "\n",
    "    def plot_roc_curve(self):\n",
    "        fpr, tpr, _ = roc_curve(self.y_test, self.y_prob)\n",
    "        roc_auc = auc(fpr, tpr)\n",
    "        plt.figure(figsize=(6, 4))\n",
    "        plt.plot(fpr, tpr, color='blue', lw=2, label=f'AUC = {roc_auc:.2f}')\n",
    "        plt.plot([0, 1], [0, 1], color='gray', linestyle='--')\n",
    "        plt.xlabel('False Positive Rate')\n",
    "        plt.ylabel('True Positive Rate')\n",
    "        plt.title('ROC Curve')\n",
    "        plt.legend(loc=\"lower right\")\n",
    "        plt.show()\n"
   ]
  }
 ],
 "metadata": {
  "kernelspec": {
   "display_name": "venv",
   "language": "python",
   "name": "python3"
  },
  "language_info": {
   "codemirror_mode": {
    "name": "ipython",
    "version": 3
   },
   "file_extension": ".py",
   "mimetype": "text/x-python",
   "name": "python",
   "nbconvert_exporter": "python",
   "pygments_lexer": "ipython3",
   "version": "3.12.0"
  }
 },
 "nbformat": 4,
 "nbformat_minor": 2
}
